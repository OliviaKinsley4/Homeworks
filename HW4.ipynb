{
  "nbformat": 4,
  "nbformat_minor": 0,
  "metadata": {
    "colab": {
      "provenance": [],
      "authorship_tag": "ABX9TyPoQA9zEJ0XYAnizFBStR3X",
      "include_colab_link": true
    },
    "kernelspec": {
      "name": "python3",
      "display_name": "Python 3"
    },
    "language_info": {
      "name": "python"
    }
  },
  "cells": [
    {
      "cell_type": "markdown",
      "metadata": {
        "id": "view-in-github",
        "colab_type": "text"
      },
      "source": [
        "<a href=\"https://colab.research.google.com/github/OliviaKinsley4/Homeworks/blob/main/HW4.ipynb\" target=\"_parent\"><img src=\"https://colab.research.google.com/assets/colab-badge.svg\" alt=\"Open In Colab\"/></a>"
      ]
    },
    {
      "cell_type": "markdown",
      "source": [
        "Question 1"
      ],
      "metadata": {
        "id": "LA3Ns4dErq7G"
      }
    },
    {
      "cell_type": "code",
      "execution_count": null,
      "metadata": {
        "id": "PPXghhtZX56T"
      },
      "outputs": [],
      "source": [
        "import numpy as np"
      ]
    },
    {
      "cell_type": "code",
      "source": [
        "integers = np.array([[1, 2, 3, 4], [5, 6, 7, 8], [9, 10, 11, 12]])"
      ],
      "metadata": {
        "id": "-bBLFDtRbION"
      },
      "execution_count": null,
      "outputs": []
    },
    {
      "cell_type": "code",
      "source": [
        "integers"
      ],
      "metadata": {
        "colab": {
          "base_uri": "https://localhost:8080/"
        },
        "id": "gLiCQ-Lgrd98",
        "outputId": "f221917a-a27c-438d-9df1-9d03240d1899"
      },
      "execution_count": null,
      "outputs": [
        {
          "output_type": "execute_result",
          "data": {
            "text/plain": [
              "array([[ 1,  2,  3,  4],\n",
              "       [ 5,  6,  7,  8],\n",
              "       [ 9, 10, 11, 12]])"
            ]
          },
          "metadata": {},
          "execution_count": 24
        }
      ]
    },
    {
      "cell_type": "code",
      "source": [
        "integers*2"
      ],
      "metadata": {
        "colab": {
          "base_uri": "https://localhost:8080/"
        },
        "id": "hYhkGdU1rkrI",
        "outputId": "51c0d1e8-bd0b-4176-e70d-bfb261791823"
      },
      "execution_count": null,
      "outputs": [
        {
          "output_type": "execute_result",
          "data": {
            "text/plain": [
              "array([[ 2,  4,  6,  8],\n",
              "       [10, 12, 14, 16],\n",
              "       [18, 20, 22, 24]])"
            ]
          },
          "metadata": {},
          "execution_count": 25
        }
      ]
    },
    {
      "cell_type": "code",
      "source": [
        "for row in integers:\n",
        "  for column in row:\n",
        "    print(column, end=' ')\n",
        "  print()"
      ],
      "metadata": {
        "colab": {
          "base_uri": "https://localhost:8080/"
        },
        "id": "y7OWLn7abtF8",
        "outputId": "c71852f2-b1c4-4660-db64-0fafd8adc8a4"
      },
      "execution_count": null,
      "outputs": [
        {
          "output_type": "stream",
          "name": "stdout",
          "text": [
            "1 2 3 4 \n",
            "5 6 7 8 \n",
            "9 10 11 12 \n"
          ]
        }
      ]
    },
    {
      "cell_type": "code",
      "source": [
        "for i in integers.flat:\n",
        "  print(i, end=' ')"
      ],
      "metadata": {
        "colab": {
          "base_uri": "https://localhost:8080/"
        },
        "id": "qe5rXPYucMx6",
        "outputId": "5790475c-6877-4e29-c88e-cabdaf6ef457"
      },
      "execution_count": null,
      "outputs": [
        {
          "output_type": "stream",
          "name": "stdout",
          "text": [
            "1 2 3 4 5 6 7 8 9 10 11 12 "
          ]
        }
      ]
    },
    {
      "cell_type": "markdown",
      "source": [
        "Question 2 "
      ],
      "metadata": {
        "id": "Wmc6W4eDrukB"
      }
    },
    {
      "cell_type": "code",
      "source": [
        "import matplotlib.pyplot as plt\n",
        "\n",
        "x = np.array([1, 2, 3, 4, 5, 6])\n",
        "y = np.array([5, 6, 7, 8, 9, 10])\n",
        "\n",
        "plt.plot(x, y)\n",
        "plt.show"
      ],
      "metadata": {
        "colab": {
          "base_uri": "https://localhost:8080/",
          "height": 283
        },
        "id": "K7A5KEPScWYw",
        "outputId": "1c672b33-b323-4388-ffab-5352230920f5"
      },
      "execution_count": null,
      "outputs": [
        {
          "output_type": "execute_result",
          "data": {
            "text/plain": [
              "<function matplotlib.pyplot.show(*args, **kw)>"
            ]
          },
          "metadata": {},
          "execution_count": 13
        },
        {
          "output_type": "display_data",
          "data": {
            "text/plain": [
              "<Figure size 432x288 with 1 Axes>"
            ],
            "image/png": "[encoded data removed]"
          },
          "metadata": {
            "needs_background": "light"
          }
        }
      ]
    },
    {
      "cell_type": "code",
      "source": [
        "x1 = np.array([3, 6, 9, 12])\n",
        "y1 = np.array([2, 8, 1, 10])\n",
        "plt.plot(x1, y1, marker = 'o')\n",
        "plt.show()"
      ],
      "metadata": {
        "colab": {
          "base_uri": "https://localhost:8080/",
          "height": 265
        },
        "id": "T0rpfliEc7Uf",
        "outputId": "d9fceb16-054b-46e5-f91b-9594dd547580"
      },
      "execution_count": null,
      "outputs": [
        {
          "output_type": "display_data",
          "data": {
            "text/plain": [
              "<Figure size 432x288 with 1 Axes>"
            ],
            "image/png": "[encoded data removed]"
          },
          "metadata": {
            "needs_background": "light"
          }
        }
      ]
    },
    {
      "cell_type": "markdown",
      "source": [
        "Question 3"
      ],
      "metadata": {
        "id": "QNbUlMXhrzAB"
      }
    },
    {
      "cell_type": "code",
      "source": [
        "x1 = np.array([0, 1, 2, 3, 4, 5])\n",
        "y1 = np.array([2, 4, 6, 14, 10, 12])\n",
        "plt.plot(x1, y1, color = 'red', marker = \"D\", mfc = 'g', linestyle = '--', ms =10)"
      ],
      "metadata": {
        "colab": {
          "base_uri": "https://localhost:8080/",
          "height": 283
        },
        "id": "bc5rFfaxeG37",
        "outputId": "ad0e2e6e-c27b-4b85-ef99-5f011fd67e5a"
      },
      "execution_count": null,
      "outputs": [
        {
          "output_type": "execute_result",
          "data": {
            "text/plain": [
              "[<matplotlib.lines.Line2D at 0x7efc6950da10>]"
            ]
          },
          "metadata": {},
          "execution_count": 15
        },
        {
          "output_type": "display_data",
          "data": {
            "text/plain": [
              "<Figure size 432x288 with 1 Axes>"
            ],
            "image/png": "[encoded data removed]"
          },
          "metadata": {
            "needs_background": "light"
          }
        }
      ]
    },
    {
      "cell_type": "markdown",
      "source": [
        "Question 4"
      ],
      "metadata": {
        "id": "Rn8qjVt3r2G3"
      }
    },
    {
      "cell_type": "code",
      "source": [
        "x1 = np.array([0, 0.5, 1.0, 1.5, 2.0, 2.5, 3.0, 3.5, 4])\n",
        "y1 = np.array([0, 0.5, 1.0, 1.5, 2.0, 2.5, 3.0, 3.5, 4])\n",
        "plt.plot(x1, y1, color = 'blue')\n",
        "x2 = np.array([0, 0.5, 1.0, 1.5, 2.0, 2.5, 3.0, 3.5, 4])\n",
        "y2 = np.array([5.0, 5.5, 6.0, 6.5, 7.0, 7.5, 8.0, 8.5, 9.0])\n",
        "plt.plot(x2, y2, color = 'orange')\n",
        "x3 = np.array([0, 0.5, 1.0, 1.5, 2.0, 2.5, 3.0, 3.5, 4.0])\n",
        "y3 = np.array([9.0, 9.5, 10.0, 10.5, 11.0, 11.5, 12.0, 12.5, 13.0])\n",
        "plt.plot(x3, y3, color = 'green')"
      ],
      "metadata": {
        "colab": {
          "base_uri": "https://localhost:8080/",
          "height": 283
        },
        "id": "z0-LtrXagSnq",
        "outputId": "a6eafe9a-2fa3-411a-e1b5-9b25e83047de"
      },
      "execution_count": null,
      "outputs": [
        {
          "output_type": "execute_result",
          "data": {
            "text/plain": [
              "[<matplotlib.lines.Line2D at 0x7efc68559410>]"
            ]
          },
          "metadata": {},
          "execution_count": 22
        },
        {
          "output_type": "display_data",
          "data": {
            "text/plain": [
              "<Figure size 432x288 with 1 Axes>"
            ],
            "image/png": "[encoded data removed]"
          },
          "metadata": {
            "needs_background": "light"
          }
        }
      ]
    },
    {
      "cell_type": "markdown",
      "source": [
        "Question 5 "
      ],
      "metadata": {
        "id": "zi-9Ainyr4FQ"
      }
    },
    {
      "cell_type": "code",
      "source": [
        "marks = {'Andy':88, 'Amy':66, 'James':90, 'Jules':55, 'Arthur':77}\n",
        "for names, grades in marks.items(): \n",
        "  print(names, grades)"
      ],
      "metadata": {
        "colab": {
          "base_uri": "https://localhost:8080/"
        },
        "id": "mErTIGbPMZ62",
        "outputId": "29cd6d9a-e77b-44f5-8ebe-bab9e49e76c0"
      },
      "execution_count": null,
      "outputs": [
        {
          "output_type": "stream",
          "name": "stdout",
          "text": [
            "Andy 88\n",
            "Amy 66\n",
            "James 90\n",
            "Jules 55\n",
            "Arthur 77\n"
          ]
        }
      ]
    },
    {
      "cell_type": "code",
      "source": [
        "import numpy as np\n",
        "import matplotlib.pyplot as plt\n",
        "plt.bar(*zip(*marks.items()))\n",
        "plt.title(\"Student Names and Grades\")\n",
        "plt.show()"
      ],
      "metadata": {
        "colab": {
          "base_uri": "https://localhost:8080/",
          "height": 281
        },
        "id": "kcHy4NWHQoGo",
        "outputId": "51b0e669-801f-4e4d-baac-432caef6a182"
      },
      "execution_count": null,
      "outputs": [
        {
          "output_type": "display_data",
          "data": {
            "text/plain": [
              "<Figure size 432x288 with 1 Axes>"
            ],
            "image/png": "[encoded data removed]"
          },
          "metadata": {
            "needs_background": "light"
          }
        }
      ]
    },
    {
      "cell_type": "code",
      "source": [
        "import matplotlib.pyplot as plt\n",
        "labels =[]\n",
        "sizes = []\n",
        "\n",
        "for x, y in marks.items():\n",
        "  labels.append(x)\n",
        "  sizes.append(y)\n",
        "plt.pie(sizes, labels=labels)\n",
        "\n",
        "plt.axis('equal')\n",
        "plt.title(\"Student Names and Grades\")\n",
        "plt.legend(bbox_to_anchor=(1.05, 1.0), loc='upper left')\n",
        "plt.show()"
      ],
      "metadata": {
        "colab": {
          "base_uri": "https://localhost:8080/",
          "height": 266
        },
        "id": "AQy5rIQzTf7C",
        "outputId": "5ef852a3-a284-4a37-b98c-76694e587232"
      },
      "execution_count": null,
      "outputs": [
        {
          "output_type": "display_data",
          "data": {
            "text/plain": [
              "<Figure size 432x288 with 1 Axes>"
            ],
            "image/png": "[encoded data removed]"
          },
          "metadata": {}
        }
      ]
    },
    {
      "cell_type": "markdown",
      "source": [
        "Question 5 "
      ],
      "metadata": {
        "id": "kctpHIuIr7gw"
      }
    },
    {
      "cell_type": "code",
      "source": [
        "import matplotlib.pyplot as plt\n",
        "import numpy as np\n",
        "x1 = np.array([0, 1, 2, 3, 4])\n",
        "y1 = np.array([0, 2, 4, 6, 8])\n",
        "x2 = np.array([0, 3, 6, 9, 12])\n",
        "y2 = np.array([1, 3, 5, 7, 9])\n",
        "plt.subplot(2, 3, 1)\n",
        "plt.plot(x1, y2, x2, y2)\n",
        "plt.title(\"Graph 1\")\n",
        "\n",
        "x = np.array([\"Apple\", \"Banana\", \"Orange\"])\n",
        "y = np.array([1, 2, 3])\n",
        "plt.subplot(2, 3, 2)\n",
        "plt.bar(x, y)\n",
        "plt.title(\"Graph 2\")\n",
        "\n",
        "y = np.array([20, 40, 60, 80])\n",
        "mylabels = [\"Math\",  \"Science\", \"History\", \"Art\"]\n",
        "plt.subplot(2, 3, 3)\n",
        "plt.pie(y, labels = mylabels)\n",
        "plt.title(\"Graph 3\")\n",
        "\n",
        "x = np.array([20, 40, 60 ,80])\n",
        "y = np.array([15, 30, 45, 60])\n",
        "plt.subplot(2, 3, 4)\n",
        "plt.plot(x, y)\n",
        "plt.grid()\n",
        "plt.title(\"Graph 4\")\n",
        "\n",
        "x = np.array([2, 4, 6, 8, 10])\n",
        "y = np.array([10, 20, 30, 40, 50])\n",
        "plt.subplot(2, 3, 5)\n",
        "plt.scatter(x, y)\n",
        "plt.title(\"Graph 5\")\n",
        "\n",
        "mu, sigma, = 2, 0.1 \n",
        "s = np.random.normal(mu, sigma, 2000)\n",
        "plt.subplot(2, 3, 6)\n",
        "plt.hist(s)\n",
        "plt.title(\"Graph 6\")\n"
      ],
      "metadata": {
        "colab": {
          "base_uri": "https://localhost:8080/",
          "height": 299
        },
        "id": "x0G7X886UVsv",
        "outputId": "3377a8db-1f1c-4a88-ce99-6efe9169c5ad"
      },
      "execution_count": null,
      "outputs": [
        {
          "output_type": "execute_result",
          "data": {
            "text/plain": [
              "Text(0.5, 1.0, 'Graph 6')"
            ]
          },
          "metadata": {},
          "execution_count": 7
        },
        {
          "output_type": "display_data",
          "data": {
            "text/plain": [
              "<Figure size 432x288 with 6 Axes>"
            ],
            "image/png": "[encoded data removed]"
          },
          "metadata": {
            "needs_background": "light"
          }
        }
      ]
    }
  ]
}