{
  "nbformat": 4,
  "nbformat_minor": 0,
  "metadata": {
    "colab": {
      "provenance": [],
      "collapsed_sections": [],
      "authorship_tag": "ABX9TyMYs+ymdIsx8noJhx2+8g4y",
      "include_colab_link": true
    },
    "kernelspec": {
      "name": "python3",
      "display_name": "Python 3"
    },
    "language_info": {
      "name": "python"
    }
  },
  "cells": [
    {
      "cell_type": "markdown",
      "metadata": {
        "id": "view-in-github",
        "colab_type": "text"
      },
      "source": [
        "<a href=\"https://colab.research.google.com/github/OliviaKinsley4/Homeworks/blob/main/HW2_Kinsley_Olivia.ipynb\" target=\"_parent\"><img src=\"https://colab.research.google.com/assets/colab-badge.svg\" alt=\"Open In Colab\"/></a>"
      ]
    },
    {
      "cell_type": "markdown",
      "source": [
        "\n",
        "\n",
        "```\n",
        "# This is formatted as code\n",
        "```\n",
        "\n"
      ],
      "metadata": {
        "id": "V19dGTeSydzW"
      }
    },
    {
      "cell_type": "markdown",
      "source": [
        "Question 1 "
      ],
      "metadata": {
        "id": "5DjrTmy2yi3M"
      }
    },
    {
      "cell_type": "code",
      "execution_count": 1,
      "metadata": {
        "colab": {
          "base_uri": "https://localhost:8080/"
        },
        "id": "POCtMe_SxszR",
        "outputId": "0e33b66a-c2ae-468a-cf96-65475b39790b"
      },
      "outputs": [
        {
          "output_type": "stream",
          "name": "stdout",
          "text": [
            "0\n",
            "1\n",
            "2\n",
            "3\n",
            "4\n"
          ]
        }
      ],
      "source": [
        "n = 0\n",
        "while n < 10:\n",
        "  print(n)\n",
        "  if n == 4:\n",
        "    break\n",
        "  n += 1"
      ]
    },
    {
      "cell_type": "markdown",
      "source": [
        "Question 2 "
      ],
      "metadata": {
        "id": "wtZlyQ-KytZW"
      }
    },
    {
      "cell_type": "code",
      "source": [
        "n = 0\n",
        "while n < 5:\n",
        "  print(n)\n",
        "  n += 1\n",
        "else:\n",
        "  print(\"5 is no longer less than 5\")"
      ],
      "metadata": {
        "colab": {
          "base_uri": "https://localhost:8080/"
        },
        "id": "BN3V6v3_y4jJ",
        "outputId": "e99a1ba5-0136-4403-c82f-ecc9439b1717"
      },
      "execution_count": 2,
      "outputs": [
        {
          "output_type": "stream",
          "name": "stdout",
          "text": [
            "0\n",
            "1\n",
            "2\n",
            "3\n",
            "4\n",
            "5 is no longer less than 5\n"
          ]
        }
      ]
    },
    {
      "cell_type": "code",
      "source": [
        "fruitlist = [\"blueberry\", \"peach\", \"mango\", \"apple\"]\n",
        "for i in fruitlist:\n",
        "    print(\"I like\", i)\n",
        "    if i == \"mango\":\n",
        "      break\n",
        "print(\"Is apple really a fruit?\")\n"
      ],
      "metadata": {
        "id": "sjGYi6QxztjS",
        "colab": {
          "base_uri": "https://localhost:8080/"
        },
        "outputId": "9a9fe101-cbdf-4b5e-a607-ef903378612c"
      },
      "execution_count": null,
      "outputs": [
        {
          "output_type": "stream",
          "name": "stdout",
          "text": [
            "I like blueberry\n",
            "I like peach\n",
            "I like mango\n",
            "Is apple really a fruit?\n"
          ]
        }
      ]
    },
    {
      "cell_type": "markdown",
      "source": [
        "Question 4"
      ],
      "metadata": {
        "id": "g-UZMH1GXWaN"
      }
    },
    {
      "cell_type": "code",
      "source": [
        "n = 30\n",
        "sum = 0\n",
        "i=1\n",
        "\n",
        "while i<= n: \n",
        "  sum = sum + i\n",
        "  i = i+1\n",
        "\n",
        "print(\"The sum is\", sum)\n"
      ],
      "metadata": {
        "colab": {
          "base_uri": "https://localhost:8080/"
        },
        "id": "aOJ4RMzVXYXH",
        "outputId": "7c502c16-1ecb-4dae-e4da-bcbcb2a8c901"
      },
      "execution_count": null,
      "outputs": [
        {
          "output_type": "stream",
          "name": "stdout",
          "text": [
            "The sum is 465\n"
          ]
        }
      ]
    },
    {
      "cell_type": "markdown",
      "source": [
        "Question 5"
      ],
      "metadata": {
        "id": "RDOewUprYmu7"
      }
    },
    {
      "cell_type": "code",
      "source": [
        "grade = 85\n",
        "\n",
        "if grade >=90:\n",
        "  print(\"A\")\n",
        "elif grade >=80: \n",
        "  print(\"B\")\n",
        "elif grade >=70:\n",
        "  print(\"C\")\n",
        "elif grade >=60:\n",
        "  print(\"D\")\n",
        "else: \n",
        "  print (\"F\")\n",
        "\n"
      ],
      "metadata": {
        "colab": {
          "base_uri": "https://localhost:8080/"
        },
        "id": "WlJyvmvlYn5g",
        "outputId": "d2ec95ee-a0c9-4498-8a56-9b8009dd85b6"
      },
      "execution_count": null,
      "outputs": [
        {
          "output_type": "stream",
          "name": "stdout",
          "text": [
            "B\n"
          ]
        }
      ]
    },
    {
      "cell_type": "markdown",
      "source": [
        "Question 6"
      ],
      "metadata": {
        "id": "7fxnYOsYaRxH"
      }
    },
    {
      "cell_type": "code",
      "source": [
        "marks = {'Andy': 88, 'Amy': 66, 'James': 90, 'Jules': 55, 'Arthur': 77}\n",
        "for names, grades in marks.items(): \n",
        "  print(names, grades)"
      ],
      "metadata": {
        "colab": {
          "base_uri": "https://localhost:8080/"
        },
        "id": "gu_obou_aS3y",
        "outputId": "a975df1d-9bca-4596-ac5c-f5eedb3caf3f"
      },
      "execution_count": null,
      "outputs": [
        {
          "output_type": "stream",
          "name": "stdout",
          "text": [
            "Andy 88\n",
            "Amy 66\n",
            "James 90\n",
            "Jules 55\n",
            "Arthur 77\n"
          ]
        }
      ]
    },
    {
      "cell_type": "code",
      "source": [
        "import numpy as np"
      ],
      "metadata": {
        "id": "w7kKeWm6bwVS"
      },
      "execution_count": null,
      "outputs": []
    },
    {
      "cell_type": "code",
      "source": [
        "marks = {'Andy': 88, 'Amy': 66, 'James': 90, 'Jules': 55, 'Arthur': 77}"
      ],
      "metadata": {
        "id": "M3rf43XYgVDL"
      },
      "execution_count": null,
      "outputs": []
    },
    {
      "cell_type": "code",
      "source": [
        "np.array(list(marks.values())).mean()"
      ],
      "metadata": {
        "colab": {
          "base_uri": "https://localhost:8080/"
        },
        "id": "TGqzq-hegYvK",
        "outputId": "970c0fcd-0019-457a-dda1-dbcabd0f39f7"
      },
      "execution_count": null,
      "outputs": [
        {
          "output_type": "execute_result",
          "data": {
            "text/plain": [
              "75.2"
            ]
          },
          "metadata": {},
          "execution_count": 34
        }
      ]
    },
    {
      "cell_type": "code",
      "source": [
        "np.array(list(marks.values())).min()"
      ],
      "metadata": {
        "colab": {
          "base_uri": "https://localhost:8080/"
        },
        "id": "qTrGrt8Ig2XT",
        "outputId": "362d5b36-b1a1-445a-a218-ff104969d6e7"
      },
      "execution_count": null,
      "outputs": [
        {
          "output_type": "execute_result",
          "data": {
            "text/plain": [
              "55"
            ]
          },
          "metadata": {},
          "execution_count": 36
        }
      ]
    },
    {
      "cell_type": "code",
      "source": [
        "np.array(list(marks.values())).max()"
      ],
      "metadata": {
        "id": "FTGW2Dm4hDaF",
        "outputId": "a96be469-c73e-4563-a110-57dd6a0df170",
        "colab": {
          "base_uri": "https://localhost:8080/"
        }
      },
      "execution_count": null,
      "outputs": [
        {
          "output_type": "execute_result",
          "data": {
            "text/plain": [
              "90"
            ]
          },
          "metadata": {},
          "execution_count": 37
        }
      ]
    },
    {
      "cell_type": "code",
      "source": [
        "for names in ['Andy', 'Amy', 'James', 'Jules', 'Arthur']:\n",
        "  if 'J' in names:\n",
        "    break\n",
        "  print(names)"
      ],
      "metadata": {
        "id": "X0u7bYvVhHWg",
        "colab": {
          "base_uri": "https://localhost:8080/"
        },
        "outputId": "a3bda859-8257-4632-dd48-c98345c8827d"
      },
      "execution_count": 2,
      "outputs": [
        {
          "output_type": "stream",
          "name": "stdout",
          "text": [
            "Andy\n",
            "Amy\n"
          ]
        }
      ]
    },
    {
      "cell_type": "code",
      "source": [
        "for names in ['Andy', 'Amy', 'James', 'Jules', 'Arthur']:\n",
        "  if 'J' in names:\n",
        "    continue\n",
        "  print(names)"
      ],
      "metadata": {
        "colab": {
          "base_uri": "https://localhost:8080/"
        },
        "id": "UddexwWLdER7",
        "outputId": "442dcfa2-1018-466e-e0af-b7d4c02f79b5"
      },
      "execution_count": 3,
      "outputs": [
        {
          "output_type": "stream",
          "name": "stdout",
          "text": [
            "Andy\n",
            "Amy\n",
            "Arthur\n"
          ]
        }
      ]
    }
  ]
}